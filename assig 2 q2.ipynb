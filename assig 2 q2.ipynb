{
 "cells": [
  {
   "cell_type": "code",
   "execution_count": 4,
   "id": "c8f51508",
   "metadata": {},
   "outputs": [
    {
     "name": "stdout",
     "output_type": "stream",
     "text": [
      "[(2, 1), (1, 2), (3, 3), (4, 5), (8, 9), (11, 10), (8, 34)]\n"
     ]
    }
   ],
   "source": [
    "def i(n): \n",
    "    return n[-1] \n",
    "def sort_list_i(tuples): \n",
    "    return sorted(tuples, key=i) \n",
    "print(sort_list_i([(4,5),(1,2), (3,3) ,(8,34) ,(2,1) ,(8,9) ,(11,10)])) "
   ]
  },
  {
   "cell_type": "code",
   "execution_count": null,
   "id": "3554a6a7",
   "metadata": {},
   "outputs": [],
   "source": []
  }
 ],
 "metadata": {
  "kernelspec": {
   "display_name": "Python 3 (ipykernel)",
   "language": "python",
   "name": "python3"
  },
  "language_info": {
   "codemirror_mode": {
    "name": "ipython",
    "version": 3
   },
   "file_extension": ".py",
   "mimetype": "text/x-python",
   "name": "python",
   "nbconvert_exporter": "python",
   "pygments_lexer": "ipython3",
   "version": "3.10.1"
  }
 },
 "nbformat": 4,
 "nbformat_minor": 5
}
